{
  "nbformat": 4,
  "nbformat_minor": 0,
  "metadata": {
    "colab": {
      "provenance": []
    },
    "kernelspec": {
      "name": "python3",
      "display_name": "Python 3"
    },
    "language_info": {
      "name": "python"
    }
  },
  "cells": [
    {
      "cell_type": "code",
      "source": [],
      "metadata": {
        "id": "M81q3qEOFKpg"
      },
      "execution_count": null,
      "outputs": []
    },
    {
      "cell_type": "code",
      "source": [
        "class xyz:\n",
        "  p=20   #global variable  # {}\n",
        "  q=30\n",
        "\n",
        "  def fun1(self):   #Method\n",
        "     print('The value of p:',self.p )\n",
        "\n",
        "  #def __init__(self):  # a is local variable\n",
        "    #s= 5+self.p\n",
        "    #return s\n",
        "\n",
        "  def fun2(self,b):  #b is local variable\n",
        "    m=b*self.p\n",
        "    return m\n",
        "object=xyz()\n",
        "\n"
      ],
      "metadata": {
        "id": "0RUppd1mF74F"
      },
      "execution_count": 1,
      "outputs": []
    },
    {
      "cell_type": "code",
      "source": [
        "object.fun1()"
      ],
      "metadata": {
        "id": "_WJaxsy3FKtO",
        "colab": {
          "base_uri": "https://localhost:8080/"
        },
        "outputId": "794043ac-2281-48d7-9a5e-6d12458591d6"
      },
      "execution_count": 2,
      "outputs": [
        {
          "output_type": "stream",
          "name": "stdout",
          "text": [
            "The value of p: 20\n"
          ]
        }
      ]
    },
    {
      "cell_type": "code",
      "source": [
        "object.fun2(6\n",
        "            )"
      ],
      "metadata": {
        "id": "M8jM11ygFKwl",
        "colab": {
          "base_uri": "https://localhost:8080/"
        },
        "outputId": "a49fd81c-6a32-482f-d43c-f156b2413c0a"
      },
      "execution_count": 5,
      "outputs": [
        {
          "output_type": "execute_result",
          "data": {
            "text/plain": [
              "120"
            ]
          },
          "metadata": {},
          "execution_count": 5
        }
      ]
    },
    {
      "cell_type": "code",
      "source": [
        "xyz.e"
      ],
      "metadata": {
        "id": "mi0OO4NIFK1A",
        "colab": {
          "base_uri": "https://localhost:8080/",
          "height": 141
        },
        "outputId": "8ebd43e4-5a4e-49b7-9d84-4f752492a5fd"
      },
      "execution_count": 11,
      "outputs": [
        {
          "output_type": "error",
          "ename": "AttributeError",
          "evalue": "type object 'xyz' has no attribute 'e'",
          "traceback": [
            "\u001b[0;31m---------------------------------------------------------------------------\u001b[0m",
            "\u001b[0;31mAttributeError\u001b[0m                            Traceback (most recent call last)",
            "\u001b[0;32m<ipython-input-11-7d49923411d4>\u001b[0m in \u001b[0;36m<cell line: 0>\u001b[0;34m()\u001b[0m\n\u001b[0;32m----> 1\u001b[0;31m \u001b[0mxyz\u001b[0m\u001b[0;34m.\u001b[0m\u001b[0me\u001b[0m\u001b[0;34m\u001b[0m\u001b[0;34m\u001b[0m\u001b[0m\n\u001b[0m",
            "\u001b[0;31mAttributeError\u001b[0m: type object 'xyz' has no attribute 'e'"
          ]
        }
      ]
    },
    {
      "cell_type": "code",
      "source": [],
      "metadata": {
        "id": "sYB-HKJPnrMd"
      },
      "execution_count": null,
      "outputs": []
    },
    {
      "cell_type": "markdown",
      "source": [],
      "metadata": {
        "id": "loNc4yegnbSM"
      }
    },
    {
      "cell_type": "code",
      "source": [
        "xyz.q"
      ],
      "metadata": {
        "id": "YD9hkHweFK4-",
        "colab": {
          "base_uri": "https://localhost:8080/"
        },
        "outputId": "bb6637fd-a493-4a28-bc4c-d9ee68d3c284"
      },
      "execution_count": 8,
      "outputs": [
        {
          "output_type": "execute_result",
          "data": {
            "text/plain": [
              "30"
            ]
          },
          "metadata": {},
          "execution_count": 8
        }
      ]
    },
    {
      "cell_type": "markdown",
      "source": [],
      "metadata": {
        "id": "DjFDgc2XSHJo"
      }
    },
    {
      "cell_type": "code",
      "source": [
        "def fun():\n",
        "  z=a+b\n",
        "  return z"
      ],
      "metadata": {
        "id": "SODvEBdULodS"
      },
      "execution_count": 13,
      "outputs": []
    },
    {
      "cell_type": "code",
      "source": [
        "a=6\n",
        "b=10\n",
        "\n",
        "result=fun()\n",
        "print(result)"
      ],
      "metadata": {
        "colab": {
          "base_uri": "https://localhost:8080/"
        },
        "id": "3uDdabzwn5lo",
        "outputId": "a03ec4d7-b02c-4535-c164-358b5599ec2f"
      },
      "execution_count": 14,
      "outputs": [
        {
          "output_type": "stream",
          "name": "stdout",
          "text": [
            "16\n"
          ]
        }
      ]
    },
    {
      "cell_type": "code",
      "source": [
        "fun()"
      ],
      "metadata": {
        "colab": {
          "base_uri": "https://localhost:8080/"
        },
        "id": "ppDYjEvFn6Op",
        "outputId": "eacbd709-ee18-4c3e-f24d-af38752ec6c1"
      },
      "execution_count": 15,
      "outputs": [
        {
          "output_type": "execute_result",
          "data": {
            "text/plain": [
              "16"
            ]
          },
          "metadata": {},
          "execution_count": 15
        }
      ]
    },
    {
      "cell_type": "code",
      "source": [
        "#Defining paramters inside bracket\n",
        "\n",
        "def fun(a,b):\n",
        "  z=a+b\n",
        "  return z\n",
        "\n"
      ],
      "metadata": {
        "id": "lOPo2d01n6Q9"
      },
      "execution_count": 16,
      "outputs": []
    },
    {
      "cell_type": "code",
      "source": [
        "fun(5,20)"
      ],
      "metadata": {
        "colab": {
          "base_uri": "https://localhost:8080/"
        },
        "id": "6SNpXf3an6To",
        "outputId": "357093ba-4466-455b-e422-11f068714b01"
      },
      "execution_count": 17,
      "outputs": [
        {
          "output_type": "execute_result",
          "data": {
            "text/plain": [
              "25"
            ]
          },
          "metadata": {},
          "execution_count": 17
        }
      ]
    },
    {
      "cell_type": "code",
      "source": [
        "class Dog:\n",
        "    def __init__(self, name):   #initilization\n",
        "        self.name = name\n",
        "\n",
        "    def talk(self):\n",
        "        print(\"Woof !\")\n",
        "\n",
        "    def printName(self):\n",
        "        print(\"My name is: {}\".format(self.name))\n",
        "\n",
        "dog = Dog(\"Charlie\")\n",
        "\n",
        "dog.talk()\n",
        "dog.printName()"
      ],
      "metadata": {
        "colab": {
          "base_uri": "https://localhost:8080/"
        },
        "id": "7HJveofun6WC",
        "outputId": "a750eb56-f908-44ed-819a-234334a6cf5f"
      },
      "execution_count": 20,
      "outputs": [
        {
          "output_type": "stream",
          "name": "stdout",
          "text": [
            "Woof !\n",
            "My name is: Charlie\n"
          ]
        }
      ]
    },
    {
      "cell_type": "code",
      "source": [
        "class faculty:\n",
        "  def data(self):\n",
        "    self.id=int(input(\"Enter Faculty Id \\n\"))    #attributes\n",
        "    self.name=input(\"Enter Faculty Name \\n\")\n",
        "    self.salary=int(input(\"Enter Faculty Salary \\n\"))\n",
        "  def show(self):\n",
        "    print(\"Faculty Id:\",self.id)\n",
        "    print(\"Faculty Name:\", self.name)\n",
        "    print(\"Faculty.Salary:\", self.salary)"
      ],
      "metadata": {
        "id": "O6PoM0jPoO4I"
      },
      "execution_count": 19,
      "outputs": []
    },
    {
      "cell_type": "code",
      "source": [
        "F_data=faculty()\n"
      ],
      "metadata": {
        "id": "RpDt9rtJn6Yg"
      },
      "execution_count": 21,
      "outputs": []
    },
    {
      "cell_type": "code",
      "source": [
        "F_data.data()\n",
        "\n"
      ],
      "metadata": {
        "colab": {
          "base_uri": "https://localhost:8080/"
        },
        "id": "LQZEvpUPn6bG",
        "outputId": "936160c6-f8a8-4557-b162-f4931b78178a"
      },
      "execution_count": 22,
      "outputs": [
        {
          "name": "stdout",
          "output_type": "stream",
          "text": [
            "Enter Faculty Id \n",
            "20\n",
            "Enter Faculty Name \n",
            "dnyanu\n",
            "Enter Faculty Salary \n",
            "200000\n"
          ]
        }
      ]
    },
    {
      "cell_type": "code",
      "source": [
        "F_data.show()"
      ],
      "metadata": {
        "colab": {
          "base_uri": "https://localhost:8080/"
        },
        "id": "RvgzJ2dAohAg",
        "outputId": "557d7e03-24af-4b19-b0b1-ae035ea0e2cb"
      },
      "execution_count": 23,
      "outputs": [
        {
          "output_type": "stream",
          "name": "stdout",
          "text": [
            "Faculty Id: 20\n",
            "Faculty Name: dnyanu\n",
            "Faculty.Salary: 200000\n"
          ]
        }
      ]
    },
    {
      "cell_type": "code",
      "source": [
        "#Constructor automatically can initiate the method and attributes inside it\n",
        "class Faculty:\n",
        "    def __init__(self, id, name, salary):\n",
        "        # Initialize the attributes\n",
        "        self.id = id\n",
        "        self.name = name\n",
        "        self.salary = salary\n",
        "\n",
        "    def show(self):\n",
        "        print(\"Faculty Id:\", self.id)\n",
        "        print(\"Faculty Name:\", self.name)\n",
        "        print(\"Faculty Salary:\", self.salary)\n",
        "\n",
        "# Create an object and pass the required arguments\n",
        "obj2 = Faculty(1, \"John Doe\", 50000)\n",
        "\n",
        "# Call the show method to display details\n",
        "obj2.show()\n"
      ],
      "metadata": {
        "colab": {
          "base_uri": "https://localhost:8080/"
        },
        "id": "mAuEElitn6ds",
        "outputId": "61e358aa-b82f-4c51-87a6-c56b54826c4e"
      },
      "execution_count": 24,
      "outputs": [
        {
          "output_type": "stream",
          "name": "stdout",
          "text": [
            "Faculty Id: 1\n",
            "Faculty Name: John Doe\n",
            "Faculty Salary: 50000\n"
          ]
        }
      ]
    },
    {
      "cell_type": "code",
      "source": [
        "obj2.show()"
      ],
      "metadata": {
        "colab": {
          "base_uri": "https://localhost:8080/"
        },
        "id": "sIsmQkUdn6gH",
        "outputId": "38d75136-ac0b-4a2d-99ba-574f39830a62"
      },
      "execution_count": 27,
      "outputs": [
        {
          "output_type": "stream",
          "name": "stdout",
          "text": [
            "Faculty Id: 1\n",
            "Faculty Name: John Doe\n",
            "Faculty Salary: 50000\n"
          ]
        }
      ]
    },
    {
      "cell_type": "code",
      "source": [
        "a=faculty()"
      ],
      "metadata": {
        "id": "ScOzuxYoopsR"
      },
      "execution_count": 28,
      "outputs": []
    },
    {
      "cell_type": "code",
      "source": [
        "a.show"
      ],
      "metadata": {
        "colab": {
          "base_uri": "https://localhost:8080/",
          "height": 103
        },
        "id": "Ffdyrnbkn6ir",
        "outputId": "a2c44d95-54ce-4cd9-8bb4-4cbcdfb118d1"
      },
      "execution_count": 29,
      "outputs": [
        {
          "output_type": "execute_result",
          "data": {
            "text/plain": [
              "<bound method faculty.show of <__main__.faculty object at 0x7dfd0acb1fd0>>"
            ],
            "text/html": [
              "<div style=\"max-width:800px; border: 1px solid var(--colab-border-color);\"><style>\n",
              "      pre.function-repr-contents {\n",
              "        overflow-x: auto;\n",
              "        padding: 8px 12px;\n",
              "        max-height: 500px;\n",
              "      }\n",
              "\n",
              "      pre.function-repr-contents.function-repr-contents-collapsed {\n",
              "        cursor: pointer;\n",
              "        max-height: 100px;\n",
              "      }\n",
              "    </style>\n",
              "    <pre style=\"white-space: initial; background:\n",
              "         var(--colab-secondary-surface-color); padding: 8px 12px;\n",
              "         border-bottom: 1px solid var(--colab-border-color);\"><b>faculty.show</b><br/>def show()</pre><pre class=\"function-repr-contents function-repr-contents-collapsed\" style=\"\"><a class=\"filepath\" style=\"display:none\" href=\"#\">/content/&lt;ipython-input-19-7ee227306e52&gt;</a>&lt;no docstring&gt;</pre></div>"
            ]
          },
          "metadata": {},
          "execution_count": 29
        }
      ]
    },
    {
      "cell_type": "code",
      "source": [
        "class faculty:\n",
        "  def __init__(self,a,b,c):\n",
        "    self.id=a    #attributes\n",
        "    self.name=b\n",
        "    self.salary=c\n",
        "  def show(self):\n",
        "    print(\"Faculty Id:\",self.id)\n",
        "    print(\"Faculty Name:\", self.name)\n",
        "    print(\"Faculty.Salary:\", self.salary)"
      ],
      "metadata": {
        "id": "FwDl5lton6lF"
      },
      "execution_count": 30,
      "outputs": []
    },
    {
      "cell_type": "code",
      "source": [
        "a=faculty(1,\"Vaibhav\",1000.5)\n",
        "a.show()"
      ],
      "metadata": {
        "colab": {
          "base_uri": "https://localhost:8080/"
        },
        "id": "ZFLc9L5an6na",
        "outputId": "cc79aa5f-67de-4bbe-c193-a73719962fa0"
      },
      "execution_count": 31,
      "outputs": [
        {
          "output_type": "stream",
          "name": "stdout",
          "text": [
            "Faculty Id: 1\n",
            "Faculty Name: Vaibhav\n",
            "Faculty.Salary: 1000.5\n"
          ]
        }
      ]
    },
    {
      "cell_type": "code",
      "source": [
        "class xyz:\n",
        "  p=20   #global variable\n",
        "  q=30\n",
        "\n",
        "  def med(self):   #Method\n",
        "     print('The value of p:',self.p )\n",
        "\n",
        "  def med1(self,a):  # a is local variable\n",
        "    s=a+self.p\n",
        "    return s\n",
        "\n",
        "  def med2(self,b):  #b is local variable\n",
        "    m=b*self.p\n",
        "    return m\n"
      ],
      "metadata": {
        "id": "N5Muh_JZn6pi"
      },
      "execution_count": 32,
      "outputs": []
    },
    {
      "cell_type": "code",
      "source": [
        "obj1=xyz()"
      ],
      "metadata": {
        "id": "cX9q1WyIo_Q7"
      },
      "execution_count": 33,
      "outputs": []
    },
    {
      "cell_type": "code",
      "source": [
        "obj1.med1(20)"
      ],
      "metadata": {
        "colab": {
          "base_uri": "https://localhost:8080/"
        },
        "id": "_biADzrqpCdk",
        "outputId": "7fd2b6a3-c801-4b1e-98c1-575db33bd149"
      },
      "execution_count": 34,
      "outputs": [
        {
          "output_type": "execute_result",
          "data": {
            "text/plain": [
              "40"
            ]
          },
          "metadata": {},
          "execution_count": 34
        }
      ]
    },
    {
      "cell_type": "code",
      "source": [
        "obj1.med2(20)"
      ],
      "metadata": {
        "colab": {
          "base_uri": "https://localhost:8080/"
        },
        "id": "zCWrk-bZpEe9",
        "outputId": "b9bf5965-b4a2-4403-cd53-fb4584f01036"
      },
      "execution_count": 38,
      "outputs": [
        {
          "output_type": "execute_result",
          "data": {
            "text/plain": [
              "400"
            ]
          },
          "metadata": {},
          "execution_count": 38
        }
      ]
    },
    {
      "cell_type": "code",
      "source": [
        "obj1.med()"
      ],
      "metadata": {
        "colab": {
          "base_uri": "https://localhost:8080/"
        },
        "id": "VJPaTx8PpIQN",
        "outputId": "9e947a3e-c884-43bc-cf6f-7d512986f6de"
      },
      "execution_count": 36,
      "outputs": [
        {
          "output_type": "stream",
          "name": "stdout",
          "text": [
            "The value of p: 20\n"
          ]
        }
      ]
    },
    {
      "cell_type": "code",
      "source": [
        "list1 = [2,4,6,8]"
      ],
      "metadata": {
        "id": "p18IR84YpLRQ"
      },
      "execution_count": 39,
      "outputs": []
    },
    {
      "cell_type": "code",
      "source": [
        "print(list1)"
      ],
      "metadata": {
        "colab": {
          "base_uri": "https://localhost:8080/"
        },
        "id": "dctJDPL5pSmm",
        "outputId": "2a4564e8-6acc-48ef-a4b5-29d1993b1f80"
      },
      "execution_count": 40,
      "outputs": [
        {
          "output_type": "stream",
          "name": "stdout",
          "text": [
            "[2, 4, 6, 8]\n"
          ]
        }
      ]
    },
    {
      "cell_type": "code",
      "source": [
        "list1 =[5,7,9]\n",
        "print(list1)\n",
        "\n"
      ],
      "metadata": {
        "colab": {
          "base_uri": "https://localhost:8080/"
        },
        "id": "oB_ponLepUk3",
        "outputId": "8ff7116f-efce-4a1b-a136-06264181345e"
      },
      "execution_count": 41,
      "outputs": [
        {
          "output_type": "stream",
          "name": "stdout",
          "text": [
            "[5, 7, 9]\n"
          ]
        }
      ]
    },
    {
      "cell_type": "code",
      "source": [
        "#Example of Inheritance\n",
        "#Let's take a simple example of a parent class called Animal\n",
        "#and a child class called Dog.\n",
        "\n",
        "# Parent class\n",
        "class Animal:\n",
        "    def __init__(self, name):\n",
        "        self.name = name\n",
        "\n",
        "    def speak(self):\n",
        "        return f\"{self.name} makes a sound\"\n",
        "\n",
        "# Child class\n",
        "class Dog(Animal):         #class dog(animal)\n",
        "    def speak(self):\n",
        "        return f\"{self.name} barks\"\n",
        "\n",
        "class cat(Animal):\n",
        "    def speak(self):\n",
        "        return f\"{self.name} Meow\"\n",
        "\n",
        "# Creating an object of the parent class\n",
        "animal = Animal(\"Domastic Animal\")\n",
        "print(animal.speak())\n",
        "# Creating an object of the child class\n",
        "dog = Dog(\"Rani\")\n",
        "print(dog.speak())\n",
        "Cat=cat(\"Rocky\")\n",
        "print(Cat.speak())\n"
      ],
      "metadata": {
        "colab": {
          "base_uri": "https://localhost:8080/"
        },
        "id": "N5TSzZA2pWwY",
        "outputId": "99057866-e2e2-42f8-bcb7-571a3e32409e"
      },
      "execution_count": 44,
      "outputs": [
        {
          "output_type": "stream",
          "name": "stdout",
          "text": [
            "Domastic Animal makes a sound\n",
            "Rani barks\n",
            "Rocky Meow\n"
          ]
        }
      ]
    },
    {
      "cell_type": "code",
      "source": [
        "#Create Car Class\n",
        "\n",
        "class car:\n",
        "  def __init__(self,name,wheels):\n",
        "    self.name = name\n",
        "    self.wheels = wheels\n",
        "\n",
        "  def start(self):\n",
        "      return f\"{self.name} is starting.\"\n",
        "\n",
        "  def description(self):\n",
        "    return f\"{self.name} has {self.wheels} wheels.\"\n",
        "\n",
        "#Truck\n",
        "class Truck:\n",
        "  def __init__(self, name, wheels):\n",
        "      self.name = name\n",
        "      self.wheels = wheels\n",
        "\n",
        "  def start(self):\n",
        "    return f\"{self.name} is starting.\"\n",
        "\n",
        "  def description(self):\n",
        "    return f\"{self.name} has {self.wheels} wheels.\"\n",
        "\n",
        "Car =car(\"Sedan\", 4)\n",
        "\n",
        "print(Car.start())   #\n",
        "print(Car.description())\n",
        "\n",
        "truck =Truck(\"International\",10)\n",
        "truck.start()\n",
        "truck.description()\n",
        "\n"
      ],
      "metadata": {
        "colab": {
          "base_uri": "https://localhost:8080/",
          "height": 70
        },
        "id": "zac7MjdxpZsY",
        "outputId": "a85702f8-ab94-4783-c307-421e0e623614"
      },
      "execution_count": 52,
      "outputs": [
        {
          "output_type": "stream",
          "name": "stdout",
          "text": [
            "Sedan is starting.\n",
            "Sedan has 4 wheels.\n"
          ]
        },
        {
          "output_type": "execute_result",
          "data": {
            "text/plain": [
              "'International has 10 wheels.'"
            ],
            "application/vnd.google.colaboratory.intrinsic+json": {
              "type": "string"
            }
          },
          "metadata": {},
          "execution_count": 52
        }
      ]
    },
    {
      "cell_type": "code",
      "source": [
        "\n",
        "\n",
        "#Parent class\n",
        "\n",
        "class Vehicle:\n",
        "  def __init__(self,name,wheels):\n",
        "    self.name = name\n",
        "    self.wheels = wheels\n",
        "\n",
        "  def start(self):\n",
        "      return f\"{self.name} is starting.\"\n",
        "\n",
        "  def description(self):\n",
        "    return f\"{self.name} has {self.wheels} wheels.\"\n",
        "\n",
        "#child classes:\n",
        "\n",
        "class Car(Vehicle):\n",
        "  pass\n",
        "\n",
        "class Truck(Vehicle):\n",
        "  pass\n",
        "\n",
        "#create instance:\n",
        "\n",
        "car=Car(\"Alto\",4)\n",
        "truck=Truck(\"Fararies\",18)\n",
        "\n",
        "\n",
        "#Calling Methods:\n",
        "\n",
        "print(car.start())\n",
        "print(car.description())\n",
        "print(truck.start())\n",
        "print(truck.description())"
      ],
      "metadata": {
        "colab": {
          "base_uri": "https://localhost:8080/"
        },
        "id": "sqS8HnJtprBJ",
        "outputId": "b0b3a7a0-71eb-494c-a82d-196738139955"
      },
      "execution_count": 51,
      "outputs": [
        {
          "output_type": "stream",
          "name": "stdout",
          "text": [
            "Alto is starting.\n",
            "Alto has 4 wheels.\n",
            "Fararies is starting.\n",
            "Fararies has 18 wheels.\n"
          ]
        }
      ]
    },
    {
      "cell_type": "code",
      "source": [
        "#Create Instances\n",
        "\n",
        "car = car(\"Sedan\",4)\n",
        "truck = Truck(\"Volve\",18)"
      ],
      "metadata": {
        "id": "evtCxziJpxND"
      },
      "execution_count": 53,
      "outputs": []
    },
    {
      "cell_type": "code",
      "source": [
        "#Calling Methods:\n",
        "\n",
        "print(car.start())   #Sedan is starting"
      ],
      "metadata": {
        "colab": {
          "base_uri": "https://localhost:8080/"
        },
        "id": "mnXr1sCip0G9",
        "outputId": "77c9c458-768b-47e0-8373-a68bb4971eff"
      },
      "execution_count": 54,
      "outputs": [
        {
          "output_type": "stream",
          "name": "stdout",
          "text": [
            "Sedan is starting.\n"
          ]
        }
      ]
    },
    {
      "cell_type": "code",
      "source": [
        "print(car.description())   #Sedan has 4 wheels"
      ],
      "metadata": {
        "colab": {
          "base_uri": "https://localhost:8080/"
        },
        "id": "0KTgY2AyqSmb",
        "outputId": "4a3b0269-4df4-4713-9712-9503d2ea763f"
      },
      "execution_count": 55,
      "outputs": [
        {
          "output_type": "stream",
          "name": "stdout",
          "text": [
            "Sedan has 4 wheels.\n"
          ]
        }
      ]
    },
    {
      "cell_type": "code",
      "source": [
        "print(truck.start())"
      ],
      "metadata": {
        "colab": {
          "base_uri": "https://localhost:8080/"
        },
        "id": "Hbe3IGn2qSpm",
        "outputId": "b55ab226-cba5-48d2-90dd-c0e757f03c58"
      },
      "execution_count": 56,
      "outputs": [
        {
          "output_type": "stream",
          "name": "stdout",
          "text": [
            "Volve is starting.\n"
          ]
        }
      ]
    },
    {
      "cell_type": "code",
      "source": [
        "print(truck.description())"
      ],
      "metadata": {
        "colab": {
          "base_uri": "https://localhost:8080/"
        },
        "id": "gQlOvTakqSsy",
        "outputId": "9e04cb79-0060-4efc-c8d3-a9fa6f071fb1"
      },
      "execution_count": 57,
      "outputs": [
        {
          "output_type": "stream",
          "name": "stdout",
          "text": [
            "Volve has 18 wheels.\n"
          ]
        }
      ]
    },
    {
      "cell_type": "markdown",
      "source": [
        "#How to Inheritance:\n",
        "\n",
        "# class A:              --parent class\n",
        "#   def fun1(self):\n",
        "#   print(\"class A\")\n",
        "\n",
        "#class B(A):           --child class\n",
        "#     pass\n",
        "\n",
        "      hair color = white\n",
        "\n",
        "#obj=B()\n",
        "#obj.fun1()\n",
        "#o/p: class A\n",
        "\n"
      ],
      "metadata": {
        "id": "QtcaTJfEqefo"
      }
    },
    {
      "cell_type": "markdown",
      "source": [
        "polymorphism\n",
        "1.Method Overloading\n",
        "2.Mwthod Overriding"
      ],
      "metadata": {
        "id": "KfOH4YXBqytA"
      }
    },
    {
      "cell_type": "code",
      "source": [
        "#polymorphism\n",
        "def add(d,e,f=0,g=0):\n",
        "  print(d+e+f)\n",
        "\n",
        "add(20,50,70)"
      ],
      "metadata": {
        "colab": {
          "base_uri": "https://localhost:8080/"
        },
        "id": "Gr_jgrUoqSv6",
        "outputId": "b320042d-af00-43c1-fe11-af82ec5a84f7"
      },
      "execution_count": 58,
      "outputs": [
        {
          "output_type": "stream",
          "name": "stdout",
          "text": [
            "140\n"
          ]
        }
      ]
    },
    {
      "cell_type": "code",
      "source": [
        "#E.g: Method Overriding\n",
        "\n",
        "class Animal:\n",
        "  def sound(Dnyanu):\n",
        "    return \"Some Domestic Sound\"\n",
        "\n",
        "class Dog:\n",
        "  def sound(Dnyanu):\n",
        "    return \"Barks\"\n",
        "\n",
        "class Cat:\n",
        "  def sound(Dnyanu):\n",
        "    return \"Meow\"\n",
        "\n",
        "#Creating Objects\n",
        "\n",
        "animal=Animal()\n",
        "cat=Cat()\n",
        "dog= Dog()\n",
        "\n",
        "#Call methods\n",
        "print(animal.sound())\n",
        "print(cat.sound())\n",
        "print(dog.sound())"
      ],
      "metadata": {
        "colab": {
          "base_uri": "https://localhost:8080/"
        },
        "id": "GjG7yGivqSzf",
        "outputId": "a09ca82d-bfd0-433c-ec24-b6c95192f6c6"
      },
      "execution_count": 60,
      "outputs": [
        {
          "output_type": "stream",
          "name": "stdout",
          "text": [
            "Some Domestic Sound\n",
            "Meow\n",
            "Barks\n"
          ]
        }
      ]
    },
    {
      "cell_type": "code",
      "source": [
        "#Method Overloading:\n",
        "\n",
        "class MathOperations:\n",
        "  def add(self,a=0,b=0,c=0,d=0,e=0):\n",
        "    return a+b+c+d\n",
        "\n",
        "math_op= MathOperations()\n",
        "\n",
        "print(math_op.add(2,3,3,4,5))"
      ],
      "metadata": {
        "colab": {
          "base_uri": "https://localhost:8080/"
        },
        "id": "dziz7zJuqS3E",
        "outputId": "c9d80a8c-5357-4093-fa85-3c0696f8c420"
      },
      "execution_count": 61,
      "outputs": [
        {
          "output_type": "stream",
          "name": "stdout",
          "text": [
            "12\n"
          ]
        }
      ]
    },
    {
      "cell_type": "code",
      "source": [
        "def add(d,e,f=0):\n",
        "  print(d+e+f)\n",
        "add(25,30)"
      ],
      "metadata": {
        "colab": {
          "base_uri": "https://localhost:8080/"
        },
        "id": "EurEHIzhraSB",
        "outputId": "cbb3d300-35b6-4f12-fd53-10789c1aa44a"
      },
      "execution_count": 62,
      "outputs": [
        {
          "output_type": "stream",
          "name": "stdout",
          "text": [
            "55\n"
          ]
        }
      ]
    },
    {
      "cell_type": "code",
      "source": [
        "#Example 1: Method Overriding (Runtime Polymorphism) Let's consider an example where we have a base class called Animal and two subclasses called Dog and Cat. Both subclasses override the sound() method.\n",
        "class Animal:\n",
        "    def sound(self):\n",
        "        return \"Some Domestic sound\"\n",
        "\n",
        "class Dog:   #1st Child Class\n",
        "    def sound(self):\n",
        "        return \"Bark\"\n",
        "\n",
        "class Cat:   #2nd child class\n",
        "    def sound(self):\n",
        "        return \"Meow\"\n",
        "\n",
        "# Creating objects\n",
        "animal = Animal()\n",
        "dog = Dog()\n",
        "cat = Cat()\n",
        "\n",
        "# Polymorphism in action\n",
        "print(animal.sound())   # \"Some generic sound\"\n",
        "print(dog.sound())      #\"Bark\"\n",
        "print(cat.sound())      #\" Meow\"\n"
      ],
      "metadata": {
        "colab": {
          "base_uri": "https://localhost:8080/"
        },
        "id": "OFFoZjudreZl",
        "outputId": "8b68148a-cc32-49a3-c955-7958ae714d45"
      },
      "execution_count": 64,
      "outputs": [
        {
          "output_type": "stream",
          "name": "stdout",
          "text": [
            "Some Domestic sound\n",
            "Bark\n",
            "Meow\n"
          ]
        }
      ]
    },
    {
      "cell_type": "code",
      "source": [
        "class Worker:\n",
        "    def work(self):\n",
        "       print(\"Working\")\n",
        "    def perform_task(self):\n",
        "       print(\"Performing Task: \", end='')\n",
        "       self.work()\n",
        "\n",
        "class DeliveryMan(Worker):\n",
        "    def work(self):\n",
        "       print(\"Delivering Goods\")\n",
        "\n",
        "class LumberJack(Worker):\n",
        "     def work(self):\n",
        "        print(\"Cutting Woods\")\n",
        "\n",
        "deliveryMan = DeliveryMan()\n",
        "lumberJack = LumberJack()\n",
        "\n",
        "deliveryMan.perform_task()\n",
        "lumberJack.perform_task()\n"
      ],
      "metadata": {
        "colab": {
          "base_uri": "https://localhost:8080/"
        },
        "id": "xuqJx7sDrqxh",
        "outputId": "cac315db-8ffe-488f-93af-813af4390027"
      },
      "execution_count": 65,
      "outputs": [
        {
          "output_type": "stream",
          "name": "stdout",
          "text": [
            "Performing Task: Delivering Goods\n",
            "Performing Task: Cutting Woods\n"
          ]
        }
      ]
    },
    {
      "cell_type": "code",
      "source": [
        "#Method Overloading (Compile-time Polymorphism) Python doesn’t support method overloading by default like some other languages, but we can achieve similar behavior by using default arguments.\n",
        "class MathOperations:\n",
        "    def add(self, a=0, b=0, c=0,d=0):\n",
        "        return a + b + c+d\n",
        "\n",
        "# Creating object\n",
        "math_op = MathOperations()\n",
        "\n",
        "# Polymorphism in action\n",
        "print(math_op.add(2, 3))    #5\n",
        "print(math_op.add(2, 3, 4))  #9\n",
        "print(math_op.add(2, 3, 4, 5)) #"
      ],
      "metadata": {
        "colab": {
          "base_uri": "https://localhost:8080/"
        },
        "id": "jaz37-hkrvGT",
        "outputId": "9ec731a1-f937-4ad8-96e4-b29841cd0031"
      },
      "execution_count": 66,
      "outputs": [
        {
          "output_type": "stream",
          "name": "stdout",
          "text": [
            "5\n",
            "9\n",
            "14\n"
          ]
        }
      ]
    },
    {
      "cell_type": "code",
      "source": [
        "print(math_op.add(2))"
      ],
      "metadata": {
        "colab": {
          "base_uri": "https://localhost:8080/"
        },
        "id": "lT1cs9wVr4eJ",
        "outputId": "d83f49f2-c73a-4305-c8b5-bda5e23f1f59"
      },
      "execution_count": 67,
      "outputs": [
        {
          "output_type": "stream",
          "name": "stdout",
          "text": [
            "2\n"
          ]
        }
      ]
    },
    {
      "cell_type": "code",
      "source": [],
      "metadata": {
        "id": "rxOg6aiGr65B"
      },
      "execution_count": null,
      "outputs": []
    },
    {
      "cell_type": "markdown",
      "source": [
        "Encapsulation:"
      ],
      "metadata": {
        "id": "ypTEGoHUr8Ks"
      }
    },
    {
      "cell_type": "code",
      "source": [
        "class A:\n",
        "  a=10    #public access\n",
        "  a2=20  #private\n",
        "  def Fun1(self):\n",
        "      print(self.a)\n",
        "  def Fun2(self):\n",
        "      print(self.a2)\n",
        "\n",
        "obj=A()\n",
        "obj.a\n",
        "obj.a2\n",
        "\n"
      ],
      "metadata": {
        "colab": {
          "base_uri": "https://localhost:8080/"
        },
        "id": "Q5GWbBEEr_3S",
        "outputId": "28d209ee-fee4-4be1-eac9-964a3d975c05"
      },
      "execution_count": 72,
      "outputs": [
        {
          "output_type": "execute_result",
          "data": {
            "text/plain": [
              "20"
            ]
          },
          "metadata": {},
          "execution_count": 72
        }
      ]
    },
    {
      "cell_type": "code",
      "source": [
        "class car:\n",
        "    def Price(self):\n",
        "        self.__updatesoftware()\n",
        "    def drive(self):\n",
        "        print('driving')\n",
        "\n",
        "    def __updatesoftware(self):\n",
        "        print('updating Software')\n",
        "\n",
        "redcar = car()\n",
        "redcar.drive()\n",
        "redcar.Price()\n",
        "\n",
        "redcar._car__updatesoftware()  # Accessing the private method directly\n",
        "\n"
      ],
      "metadata": {
        "colab": {
          "base_uri": "https://localhost:8080/"
        },
        "id": "3-Zr-7OIr_6l",
        "outputId": "58a580af-d105-435f-8210-0dcd210e4c49"
      },
      "execution_count": 74,
      "outputs": [
        {
          "output_type": "stream",
          "name": "stdout",
          "text": [
            "driving\n",
            "updating Software\n",
            "updating Software\n"
          ]
        }
      ]
    },
    {
      "cell_type": "code",
      "source": [
        "class SomeClass:\n",
        "  def public(self):\n",
        "    print(\"Public function\")\n",
        "\n",
        "  def __private(self):   #private method\n",
        "    print(\"Private Function\")\n",
        "\n",
        "obj = SomeClass()\n",
        "obj.public()\n",
        "obj._SomeClass__private()    #Name Mangling\n"
      ],
      "metadata": {
        "colab": {
          "base_uri": "https://localhost:8080/"
        },
        "id": "QfTL23iDr_9e",
        "outputId": "4ba0ead8-4a4a-4ee2-e7d1-1be62ae436f0"
      },
      "execution_count": 80,
      "outputs": [
        {
          "output_type": "stream",
          "name": "stdout",
          "text": [
            "Public function\n",
            "Private Function\n"
          ]
        }
      ]
    },
    {
      "cell_type": "code",
      "source": [
        "#Editing the Values of Private Variables\n",
        "class Example:\n",
        "    def __init__(self, value):\n",
        "        self.__private_value = value  # Private variable\n",
        "\n",
        "    def get_value(self):\n",
        "        return self.__private_value\n",
        "\n",
        "    def set_value(self, new_value):\n",
        "        self.__private_value = new_value  # Method to modify the private variable\n",
        "\n",
        "\n",
        "# Create an instance of the class\n",
        "obj = Example(20)\n",
        "\n",
        "# Accessing and modifying the private variable using a public method\n",
        "print(\"Before:\", obj.get_value())\n",
        "obj.set_value(30)\n",
        "print(\"After:\", obj.get_value())\n"
      ],
      "metadata": {
        "colab": {
          "base_uri": "https://localhost:8080/"
        },
        "id": "z2VKlHGFsAAK",
        "outputId": "cafb524c-88c5-4a36-ad55-f73e54921945"
      },
      "execution_count": 82,
      "outputs": [
        {
          "output_type": "stream",
          "name": "stdout",
          "text": [
            "Before: 20\n",
            "After: 30\n"
          ]
        }
      ]
    },
    {
      "cell_type": "code",
      "source": [
        "#Name Mangling(Directly Modifying the Private Variable)\n",
        "class Example:\n",
        "    def __init__(self, value):\n",
        "        self.__private_value = value  # Private variable\n",
        "\n",
        "# Create an instance of the class\n",
        "obj = Example(10)\n",
        "\n",
        "# Accessing the private variable using name mangling\n",
        "print(\"Before:\", obj._Example__private_value)\n",
        "\n",
        "# Modifying the private variable using name mangling\n",
        "obj._Example__private_value = 30\n",
        "print(\"After:\", obj._Example__private_value)"
      ],
      "metadata": {
        "colab": {
          "base_uri": "https://localhost:8080/"
        },
        "id": "bQ2jS_VjsADS",
        "outputId": "5c9c3081-ae16-4123-9622-11ad8ca6074e"
      },
      "execution_count": 83,
      "outputs": [
        {
          "output_type": "stream",
          "name": "stdout",
          "text": [
            "Before: 10\n",
            "After: 30\n"
          ]
        }
      ]
    },
    {
      "cell_type": "markdown",
      "source": [
        "Abstraction"
      ],
      "metadata": {
        "id": "tEeLlrfstizM"
      }
    },
    {
      "cell_type": "code",
      "source": [
        "class car:\n",
        "   a=500\n"
      ],
      "metadata": {
        "id": "Na83bcWksAGL"
      },
      "execution_count": 84,
      "outputs": []
    },
    {
      "cell_type": "code",
      "source": [
        "india = car()\n",
        "print(india.a)"
      ],
      "metadata": {
        "colab": {
          "base_uri": "https://localhost:8080/"
        },
        "id": "ZjSlxvImsAJV",
        "outputId": "945b31a2-ec76-4e67-c44b-a8cbd3f03d72"
      },
      "execution_count": 85,
      "outputs": [
        {
          "output_type": "stream",
          "name": "stdout",
          "text": [
            "500\n"
          ]
        }
      ]
    },
    {
      "cell_type": "code",
      "source": [
        "#Inheritance basic e.g:\n",
        "\n",
        "class A:  #parent class\n",
        "  name1=\"Good Morning !!!\"\n",
        "class B(A):  #child class\n",
        "  name2=\"Good Afternoon !!!\"\n",
        "obj=B\n",
        "print(obj.name2)"
      ],
      "metadata": {
        "colab": {
          "base_uri": "https://localhost:8080/"
        },
        "id": "Xcm1ksjrsAM4",
        "outputId": "519f9b35-f093-4bdd-fdd5-2c6ac14601b6"
      },
      "execution_count": 92,
      "outputs": [
        {
          "output_type": "stream",
          "name": "stdout",
          "text": [
            "Good Afternoon !!!\n"
          ]
        }
      ]
    },
    {
      "cell_type": "code",
      "source": [
        "obj=A\n",
        "print(obj.name1)"
      ],
      "metadata": {
        "colab": {
          "base_uri": "https://localhost:8080/"
        },
        "id": "90Q7FEJrtuYK",
        "outputId": "d44c2d92-5ea9-47f3-b38a-e9f1854ed8bb"
      },
      "execution_count": 93,
      "outputs": [
        {
          "output_type": "stream",
          "name": "stdout",
          "text": [
            "Good Morning !!!\n"
          ]
        }
      ]
    },
    {
      "cell_type": "code",
      "source": [
        "class maths:\n",
        "  def multiplication(self,num1,num2):\n",
        "    print(num1*num2)\n",
        "  def exponent(self,num3,num4):\n",
        "    print(num3**num4)\n",
        "\n",
        "object1=maths()\n",
        "\n",
        "print(object1.multiplication(4,5) ) #20\n",
        "object1.exponent(3,2)       #9"
      ],
      "metadata": {
        "colab": {
          "base_uri": "https://localhost:8080/"
        },
        "id": "DNJ8zhiKtw4h",
        "outputId": "eb5fc084-aa80-4a60-c5ad-7eee68e6b6a0"
      },
      "execution_count": 94,
      "outputs": [
        {
          "output_type": "stream",
          "name": "stdout",
          "text": [
            "20\n",
            "None\n",
            "9\n"
          ]
        }
      ]
    },
    {
      "cell_type": "code",
      "source": [
        "class Information():\n",
        "    def __init__(self):\n",
        "      print(\"I will get called automatically\")\n",
        "\n",
        "ob =Information()\n"
      ],
      "metadata": {
        "colab": {
          "base_uri": "https://localhost:8080/"
        },
        "id": "Vsf-EYpFuMpA",
        "outputId": "9c81efe2-fb12-4dda-d233-8e2f5629f7c3"
      },
      "execution_count": 95,
      "outputs": [
        {
          "output_type": "stream",
          "name": "stdout",
          "text": [
            "I will get called automatically\n"
          ]
        }
      ]
    },
    {
      "cell_type": "code",
      "source": [
        "class Demo1:\n",
        "  def __init__(self, VALUE):\n",
        "    print(\"I am  the first Constructor\")\n",
        "  def __init__(self):\n",
        "    print(\"I am  the second Constructor\")\n",
        "  def __init__(self):\n",
        "    print(\"I am  the third Constructor\")\n",
        "\n",
        "obj=Demo1()    #\n"
      ],
      "metadata": {
        "colab": {
          "base_uri": "https://localhost:8080/"
        },
        "id": "q2YbVbOmufqd",
        "outputId": "429cbbc4-c48b-455f-d038-ee1d3da8c0c5"
      },
      "execution_count": 96,
      "outputs": [
        {
          "output_type": "stream",
          "name": "stdout",
          "text": [
            "I am  the third Constructor\n"
          ]
        }
      ]
    },
    {
      "cell_type": "code",
      "source": [
        "#Inheritance:\n",
        "\n",
        "class Demo2:\n",
        "  def fun1(self):\n",
        "    print(\"I am the part of Demo2 class\")\n",
        "\n",
        "class Demo3(Demo2):\n",
        "  def fun2(self):\n",
        "    print(\"I am the part of Demo3 class\")\n",
        "\n",
        "obj3=Demo3()\n",
        "\n",
        "obj3.fun2()   #I am the part of Demo3 class\"\n",
        "obj3.fun1()   #\"I am the part of Demo2 class\"\n"
      ],
      "metadata": {
        "colab": {
          "base_uri": "https://localhost:8080/"
        },
        "id": "kA_JPwpiufs0",
        "outputId": "ef54b9ef-b450-4866-f2e4-345102ea5fc1"
      },
      "execution_count": 97,
      "outputs": [
        {
          "output_type": "stream",
          "name": "stdout",
          "text": [
            "I am the part of Demo3 class\n",
            "I am the part of Demo2 class\n"
          ]
        }
      ]
    },
    {
      "cell_type": "code",
      "source": [
        "class Demo4:\n",
        "  def __init__(self):\n",
        "    print(\"I am the constructor of Demo4 class\")\n",
        "\n",
        "class Demo5(Demo4):\n",
        "  def __init__(self):\n",
        "    print(\"I am constructor of Demo5 class\")\n",
        "\n",
        "obj4=Demo5()\n"
      ],
      "metadata": {
        "colab": {
          "base_uri": "https://localhost:8080/"
        },
        "id": "YuQ7hqvsufvR",
        "outputId": "05a3a735-7171-450f-b31c-e8def326487b"
      },
      "execution_count": 98,
      "outputs": [
        {
          "output_type": "stream",
          "name": "stdout",
          "text": [
            "I am constructor of Demo5 class\n"
          ]
        }
      ]
    },
    {
      "cell_type": "code",
      "source": [
        "#Encapsulation Example:\n",
        "\n",
        "class Encapsulation:\n",
        "  def __init__(self):\n",
        "    print(self.__b)\n",
        "\n",
        "  a=100\n",
        "  __b=200\n",
        "\n",
        "ob = Encapsulation()\n",
        "print(ob.a)"
      ],
      "metadata": {
        "colab": {
          "base_uri": "https://localhost:8080/"
        },
        "id": "JEB7d60Bufx2",
        "outputId": "ac27efe4-ef85-4162-ef18-659df2543cd2"
      },
      "execution_count": 99,
      "outputs": [
        {
          "output_type": "stream",
          "name": "stdout",
          "text": [
            "200\n",
            "100\n"
          ]
        }
      ]
    },
    {
      "cell_type": "code",
      "source": [],
      "metadata": {
        "colab": {
          "base_uri": "https://localhost:8080/"
        },
        "id": "XGeI4ODsuf0X",
        "outputId": "1158995c-54ee-4ab3-ebff-aff677c11f46"
      },
      "execution_count": 100,
      "outputs": [
        {
          "output_type": "stream",
          "name": "stdout",
          "text": [
            "200\n",
            "100\n"
          ]
        }
      ]
    },
    {
      "cell_type": "code",
      "source": [
        "class Describe:\n",
        "  def __init__(self):\n",
        "    self.__fun2()\n",
        "\n",
        "  def fun1(self):\n",
        "    print(\"I am a public method\")\n",
        "    #a\n",
        "\n",
        "  def __fun2(self):\n",
        "    print(\"I am the private number\")\n",
        "\n",
        "    #__b\n",
        "\n",
        "D= Describe()\n",
        "D.fun1()"
      ],
      "metadata": {
        "colab": {
          "base_uri": "https://localhost:8080/"
        },
        "id": "QYiy6pu6uf2g",
        "outputId": "4dfb8844-30dd-428b-ddd5-ef49921734f6"
      },
      "execution_count": 101,
      "outputs": [
        {
          "output_type": "stream",
          "name": "stdout",
          "text": [
            "I am the private number\n",
            "I am a public method\n"
          ]
        }
      ]
    },
    {
      "cell_type": "markdown",
      "source": [
        "Python Modules"
      ],
      "metadata": {
        "id": "k7s2iVS7u4HY"
      }
    },
    {
      "cell_type": "code",
      "source": [
        "#Importing entire math module:\n",
        "\n",
        "import math"
      ],
      "metadata": {
        "id": "M3BWcpE1uf59"
      },
      "execution_count": 102,
      "outputs": []
    },
    {
      "cell_type": "code",
      "source": [
        "#E.g:Using a function from the math module\n",
        "\n",
        "result=math.sqrt(16)\n",
        "print(result)"
      ],
      "metadata": {
        "colab": {
          "base_uri": "https://localhost:8080/"
        },
        "id": "2VSSmrUNu1Zj",
        "outputId": "cc7f2e2b-29b8-4c4c-af43-1cd675a3353e"
      },
      "execution_count": 103,
      "outputs": [
        {
          "output_type": "stream",
          "name": "stdout",
          "text": [
            "4.0\n"
          ]
        }
      ]
    },
    {
      "cell_type": "code",
      "source": [
        "\n",
        "\n",
        "#Import sqrt function from the math module\n",
        "\n",
        "from math  import sqrt\n",
        "\n",
        "\n",
        "result=sqrt(25)\n",
        "\n",
        "result"
      ],
      "metadata": {
        "colab": {
          "base_uri": "https://localhost:8080/"
        },
        "id": "zVEMLSzMu1cJ",
        "outputId": "c7f6cf15-d7ac-4ce4-f914-bd524c455326"
      },
      "execution_count": 104,
      "outputs": [
        {
          "output_type": "execute_result",
          "data": {
            "text/plain": [
              "5.0"
            ]
          },
          "metadata": {},
          "execution_count": 104
        }
      ]
    },
    {
      "cell_type": "code",
      "source": [
        "#Importing Multiple functions:\n",
        "\n",
        "from math import sqrt , pow\n",
        "\n",
        "result1=sqrt(49)\n",
        "result2=pow(2,3)\n",
        "\n",
        "print(result1)\n",
        "print(result2)"
      ],
      "metadata": {
        "colab": {
          "base_uri": "https://localhost:8080/"
        },
        "id": "N3ux8xHPu1er",
        "outputId": "24aa5dfd-0ab6-4b32-fc6a-9ee6b8719142"
      },
      "execution_count": 105,
      "outputs": [
        {
          "output_type": "stream",
          "name": "stdout",
          "text": [
            "7.0\n",
            "8.0\n"
          ]
        }
      ]
    },
    {
      "cell_type": "code",
      "source": [
        "#We can import them by using alias\n",
        "\n",
        "import math as m\n",
        "result=m.sqrt(16)\n",
        "print(result)\n",
        "\n"
      ],
      "metadata": {
        "colab": {
          "base_uri": "https://localhost:8080/"
        },
        "id": "KpkEK-KFu1hc",
        "outputId": "7eaefbb4-fdec-47db-ee11-54464d9ae072"
      },
      "execution_count": 106,
      "outputs": [
        {
          "output_type": "stream",
          "name": "stdout",
          "text": [
            "4.0\n"
          ]
        }
      ]
    },
    {
      "cell_type": "code",
      "source": [],
      "metadata": {
        "id": "Ds08dXUqu1j-"
      },
      "execution_count": null,
      "outputs": []
    },
    {
      "cell_type": "code",
      "source": [],
      "metadata": {
        "id": "bJPa7uLgu1na"
      },
      "execution_count": null,
      "outputs": []
    }
  ]
}