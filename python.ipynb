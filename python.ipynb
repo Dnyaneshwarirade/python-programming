{
 "cells": [
  {
   "cell_type": "code",
   "execution_count": 1,
   "id": "5cb58549-f385-4859-90f0-fc40193f0d8a",
   "metadata": {},
   "outputs": [],
   "source": [
    "A=10\n",
    "B=20"
   ]
  },
  {
   "cell_type": "code",
   "execution_count": 2,
   "id": "35632f2c-debd-488b-9825-0c8b2d78d117",
   "metadata": {},
   "outputs": [],
   "source": [
    "A=B"
   ]
  },
  {
   "cell_type": "code",
   "execution_count": 3,
   "id": "623a38c6-61de-4d7e-90c6-9202cbe8e001",
   "metadata": {},
   "outputs": [
    {
     "name": "stdout",
     "output_type": "stream",
     "text": [
      "20\n"
     ]
    }
   ],
   "source": [
    "print(A)\n"
   ]
  },
  {
   "cell_type": "code",
   "execution_count": 6,
   "id": "b5c1881f-90ad-449b-994c-069096222b6b",
   "metadata": {},
   "outputs": [
    {
     "name": "stdout",
     "output_type": "stream",
     "text": [
      "30\n"
     ]
    }
   ],
   "source": [
    "\n",
    "print(A+B)"
   ]
  },
  {
   "cell_type": "code",
   "execution_count": 7,
   "id": "032259c0-4f71-4731-9c7f-8d0a9d595316",
   "metadata": {},
   "outputs": [
    {
     "name": "stdin",
     "output_type": "stream",
     "text": [
      "Enter the number 2\n"
     ]
    }
   ],
   "source": [
    "#How to take input(integer)\n",
    "A=int(input(\"Enter the number\"))\n"
   ]
  },
  {
   "cell_type": "code",
   "execution_count": 8,
   "id": "7d01fcb0-70c9-482f-9388-d1388fdc7b45",
   "metadata": {},
   "outputs": [
    {
     "data": {
      "text/plain": [
       "int"
      ]
     },
     "execution_count": 8,
     "metadata": {},
     "output_type": "execute_result"
    }
   ],
   "source": [
    "#To find input type\n",
    "type(A)"
   ]
  },
  {
   "cell_type": "code",
   "execution_count": 20,
   "id": "926bf9a4-4d58-4bda-93a2-da3f86b6bfbe",
   "metadata": {},
   "outputs": [],
   "source": [
    "#To print the values\n",
    "Name='Ram'"
   ]
  },
  {
   "cell_type": "code",
   "execution_count": 28,
   "id": "4e0ef713-195a-4ab1-a609-e896ab5ba543",
   "metadata": {},
   "outputs": [],
   "source": [
    "Salary=5000"
   ]
  },
  {
   "cell_type": "code",
   "execution_count": 23,
   "id": "9e9c74b4-0359-4082-a40c-7828bef4d718",
   "metadata": {},
   "outputs": [],
   "source": [
    "Address=\"Ram nagar\""
   ]
  },
  {
   "cell_type": "code",
   "execution_count": 31,
   "id": "37a0de09-2df6-4389-957d-6e221759e417",
   "metadata": {},
   "outputs": [
    {
     "name": "stdout",
     "output_type": "stream",
     "text": [
      "Ram\n",
      "Ram nagar\n",
      "5000\n",
      "Ram Ram nagar 5000\n"
     ]
    }
   ],
   "source": [
    "print(Name)\n",
    "print(Address)\n",
    "print(Salary)\n",
    "print(Name,Address,Salary)"
   ]
  },
  {
   "cell_type": "code",
   "execution_count": 49,
   "id": "2ab20d57-ef06-4733-b23e-fe6ca5d06f2a",
   "metadata": {},
   "outputs": [],
   "source": [
    "#To change the cases\n",
    "Ant='Python Programming'"
   ]
  },
  {
   "cell_type": "code",
   "execution_count": 50,
   "id": "7e6f7c99-8d2f-4b66-9469-2d26b7296b5e",
   "metadata": {},
   "outputs": [
    {
     "data": {
      "text/plain": [
       "'python programming'"
      ]
     },
     "execution_count": 50,
     "metadata": {},
     "output_type": "execute_result"
    }
   ],
   "source": [
    "Ant.lower()"
   ]
  },
  {
   "cell_type": "code",
   "execution_count": 51,
   "id": "422f8e45-23b0-41d1-8002-b13f2b999a97",
   "metadata": {},
   "outputs": [
    {
     "data": {
      "text/plain": [
       "'PYTHON PROGRAMMING'"
      ]
     },
     "execution_count": 51,
     "metadata": {},
     "output_type": "execute_result"
    }
   ],
   "source": [
    "Ant.upper()"
   ]
  },
  {
   "cell_type": "code",
   "execution_count": 52,
   "id": "5bc9b413-98cd-42db-a4a8-f6319b2d1010",
   "metadata": {},
   "outputs": [
    {
     "data": {
      "text/plain": [
       "'Python Programming'"
      ]
     },
     "execution_count": 52,
     "metadata": {},
     "output_type": "execute_result"
    }
   ],
   "source": [
    "Ant.title()"
   ]
  },
  {
   "cell_type": "code",
   "execution_count": 53,
   "id": "8423bfbf-3882-4f0d-b039-007b478b59c2",
   "metadata": {},
   "outputs": [
    {
     "data": {
      "text/plain": [
       "'Python programming'"
      ]
     },
     "execution_count": 53,
     "metadata": {},
     "output_type": "execute_result"
    }
   ],
   "source": [
    "Ant.capitalize()"
   ]
  },
  {
   "cell_type": "code",
   "execution_count": 54,
   "id": "22c9c60e-b47a-4353-bff7-d6473a8309b6",
   "metadata": {},
   "outputs": [
    {
     "data": {
      "text/plain": [
       "'pYTHON pROGRAMMING'"
      ]
     },
     "execution_count": 54,
     "metadata": {},
     "output_type": "execute_result"
    }
   ],
   "source": [
    "Ant.swapcase()"
   ]
  },
  {
   "cell_type": "code",
   "execution_count": 74,
   "id": "106feacd-e46c-42ad-96cc-8dc0e26043bb",
   "metadata": {},
   "outputs": [
    {
     "data": {
      "text/plain": [
       "False"
      ]
     },
     "execution_count": 74,
     "metadata": {},
     "output_type": "execute_result"
    }
   ],
   "source": [
    "Ant.isalpha()"
   ]
  },
  {
   "cell_type": "code",
   "execution_count": 57,
   "id": "e5d4d4bc-2282-4844-bc81-7b60ba4dbd65",
   "metadata": {},
   "outputs": [
    {
     "data": {
      "text/plain": [
       "False"
      ]
     },
     "execution_count": 57,
     "metadata": {},
     "output_type": "execute_result"
    }
   ],
   "source": [
    "Ant.isalnum()"
   ]
  },
  {
   "cell_type": "code",
   "execution_count": 77,
   "id": "05bb1421-d004-40bd-9cc7-4334b0db7653",
   "metadata": {},
   "outputs": [],
   "source": [
    "Anant=\"123dnyanu\""
   ]
  },
  {
   "cell_type": "code",
   "execution_count": 78,
   "id": "3529672b-cae5-4d72-91bb-08bd227d8139",
   "metadata": {},
   "outputs": [
    {
     "data": {
      "text/plain": [
       "True"
      ]
     },
     "execution_count": 78,
     "metadata": {},
     "output_type": "execute_result"
    }
   ],
   "source": [
    "Anant.isalnum()"
   ]
  },
  {
   "cell_type": "code",
   "execution_count": 61,
   "id": "64a88eee-d84a-49b4-86e2-c88067038d29",
   "metadata": {},
   "outputs": [
    {
     "data": {
      "text/plain": [
       "True"
      ]
     },
     "execution_count": 61,
     "metadata": {},
     "output_type": "execute_result"
    }
   ],
   "source": [
    "Ant.startswith(\"P\")"
   ]
  },
  {
   "cell_type": "code",
   "execution_count": null,
   "id": "8d0cc2e2-45b3-4017-9f70-892ed6ff783b",
   "metadata": {},
   "outputs": [],
   "source": []
  },
  {
   "cell_type": "code",
   "execution_count": 69,
   "id": "3534cf53-3b82-44e0-9166-4217f23cca75",
   "metadata": {},
   "outputs": [],
   "source": [
    "#split function\n",
    "a='+91-750768208'"
   ]
  },
  {
   "cell_type": "code",
   "execution_count": 71,
   "id": "96c7c359-f0d1-4bf3-aec0-672fe59d9494",
   "metadata": {},
   "outputs": [
    {
     "data": {
      "text/plain": [
       "['+91-75', '7682', '8']"
      ]
     },
     "execution_count": 71,
     "metadata": {},
     "output_type": "execute_result"
    }
   ],
   "source": [
    "a.split('0')"
   ]
  },
  {
   "cell_type": "code",
   "execution_count": 86,
   "id": "c5fb9b32-e20e-427b-9dc4-23421480f130",
   "metadata": {},
   "outputs": [],
   "source": [
    "A=\"     Data science   \""
   ]
  },
  {
   "cell_type": "code",
   "execution_count": 87,
   "id": "641d5a07-932d-4ef5-b2ed-79893f42451f",
   "metadata": {},
   "outputs": [
    {
     "data": {
      "text/plain": [
       "'Data science'"
      ]
     },
     "execution_count": 87,
     "metadata": {},
     "output_type": "execute_result"
    }
   ],
   "source": [
    "#to remove the space\n",
    "A.strip()"
   ]
  },
  {
   "cell_type": "code",
   "execution_count": 90,
   "id": "d0ecddaa-0a75-465d-a21f-a89abd4329ce",
   "metadata": {},
   "outputs": [
    {
     "data": {
      "text/plain": [
       "'Data science   '"
      ]
     },
     "execution_count": 90,
     "metadata": {},
     "output_type": "execute_result"
    }
   ],
   "source": [
    "A.lstrip()"
   ]
  },
  {
   "cell_type": "code",
   "execution_count": 89,
   "id": "80a86833-4fdf-49d2-984e-0ad8c94912de",
   "metadata": {},
   "outputs": [
    {
     "data": {
      "text/plain": [
       "'     Data science'"
      ]
     },
     "execution_count": 89,
     "metadata": {},
     "output_type": "execute_result"
    }
   ],
   "source": [
    "A.rstrip()"
   ]
  },
  {
   "cell_type": "code",
   "execution_count": 91,
   "id": "76087746-3153-4302-9fb8-dc4811908413",
   "metadata": {},
   "outputs": [],
   "source": [
    "B=\"Danceteacher\""
   ]
  },
  {
   "cell_type": "code",
   "execution_count": 93,
   "id": "119a7cb7-9c28-4ac7-817e-8dbdc8dec672",
   "metadata": {},
   "outputs": [
    {
     "data": {
      "text/plain": [
       "'****Danceteacher****'"
      ]
     },
     "execution_count": 93,
     "metadata": {},
     "output_type": "execute_result"
    }
   ],
   "source": [
    "B.center(20,'*')"
   ]
  },
  {
   "cell_type": "code",
   "execution_count": 94,
   "id": "9ef9f584-0c05-4331-bf2c-47c43781157d",
   "metadata": {},
   "outputs": [
    {
     "data": {
      "text/plain": [
       "'Danceteacher********'"
      ]
     },
     "execution_count": 94,
     "metadata": {},
     "output_type": "execute_result"
    }
   ],
   "source": [
    "B.ljust(20,'*')"
   ]
  },
  {
   "cell_type": "code",
   "execution_count": 95,
   "id": "57d3286c-f07a-456a-83ab-2c4f47ba7e15",
   "metadata": {},
   "outputs": [
    {
     "data": {
      "text/plain": [
       "'********Danceteacher'"
      ]
     },
     "execution_count": 95,
     "metadata": {},
     "output_type": "execute_result"
    }
   ],
   "source": [
    "B.rjust(20,'*')"
   ]
  },
  {
   "cell_type": "code",
   "execution_count": 98,
   "id": "77d88e44-7eec-4ab9-93d7-55ba50306b2c",
   "metadata": {},
   "outputs": [
    {
     "data": {
      "text/plain": [
       "4"
      ]
     },
     "execution_count": 98,
     "metadata": {},
     "output_type": "execute_result"
    }
   ],
   "source": [
    "#To find the index\n",
    "B.index('e')\n"
   ]
  },
  {
   "cell_type": "code",
   "execution_count": 101,
   "id": "af50d5df-3200-4bd6-9d40-dea9994307be",
   "metadata": {},
   "outputs": [
    {
     "data": {
      "text/plain": [
       "'Dsingerasingernsingercsingere'"
      ]
     },
     "execution_count": 101,
     "metadata": {},
     "output_type": "execute_result"
    }
   ],
   "source": [
    "'singer'.join('Dance')"
   ]
  },
  {
   "cell_type": "code",
   "execution_count": null,
   "id": "7a5f44b3-8d6f-4cca-85b2-7aeb3211a50c",
   "metadata": {},
   "outputs": [],
   "source": []
  }
 ],
 "metadata": {
  "kernelspec": {
   "display_name": "Python 3 (ipykernel)",
   "language": "python",
   "name": "python3"
  },
  "language_info": {
   "codemirror_mode": {
    "name": "ipython",
    "version": 3
   },
   "file_extension": ".py",
   "mimetype": "text/x-python",
   "name": "python",
   "nbconvert_exporter": "python",
   "pygments_lexer": "ipython3",
   "version": "3.13.2"
  }
 },
 "nbformat": 4,
 "nbformat_minor": 5
}
