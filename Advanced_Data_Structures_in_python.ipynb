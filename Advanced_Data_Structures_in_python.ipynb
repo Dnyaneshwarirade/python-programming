{
  "nbformat": 4,
  "nbformat_minor": 0,
  "metadata": {
    "colab": {
      "provenance": []
    },
    "kernelspec": {
      "name": "python3",
      "display_name": "Python 3"
    },
    "language_info": {
      "name": "python"
    }
  },
  "cells": [
    {
      "cell_type": "code",
      "execution_count": null,
      "metadata": {
        "id": "3IolhqgM86EI"
      },
      "outputs": [],
      "source": []
    },
    {
      "cell_type": "code",
      "source": [],
      "metadata": {
        "id": "_oaAoD4g9Lw-"
      },
      "execution_count": null,
      "outputs": []
    },
    {
      "cell_type": "markdown",
      "source": [
        "Advanced Data Structures/Collections in Python"
      ],
      "metadata": {
        "id": "fs6MOY3E9Ixo"
      }
    },
    {
      "cell_type": "markdown",
      "source": [
        "The advanced data structures include:\n",
        "deque,\n",
        "namedtuple,\n",
        "ChainMap,\n",
        "Counter,\n",
        "OrderedDict,\n",
        "defaultdict."
      ],
      "metadata": {
        "id": "RX7lK5R89Nmm"
      }
    },
    {
      "cell_type": "code",
      "source": [
        "#1.Deque (Double-Ended Queue)\n",
        "from collections import deque\n",
        "\n",
        "# Create a deque\n",
        "d = deque()\n",
        "\n",
        "# Add elements to the deque\n",
        "d.append(1)\n",
        "d.appendleft(2)\n",
        "print(d)\n",
        "\n",
        "# Remove elements from the deque\n",
        "d.pop()\n",
        "d.popleft()\n",
        "print(d)\n",
        "d.extend([1,2,3])\n",
        "print(d)\n",
        "d.extendleft([6,5,4])\n",
        "print(d)"
      ],
      "metadata": {
        "id": "kHDMrk2-9Kw9",
        "colab": {
          "base_uri": "https://localhost:8080/"
        },
        "outputId": "e093a3c0-c429-4d2c-ab7c-d79fe89e5442"
      },
      "execution_count": 1,
      "outputs": [
        {
          "output_type": "stream",
          "name": "stdout",
          "text": [
            "deque([2, 1])\n",
            "deque([])\n",
            "deque([1, 2, 3])\n",
            "deque([4, 5, 6, 1, 2, 3])\n"
          ]
        }
      ]
    },
    {
      "cell_type": "code",
      "source": [
        "from collections import deque\n",
        "\n",
        "# Create a deque with an initial list of elements\n",
        "my_deque = deque([1, 2, 3, 4, 5])\n",
        "\n",
        "# Print the initial deque\n",
        "print(\"Initial deque:\", my_deque)\n",
        "# Append an element to the right (end) of the deque\n",
        "my_deque.append(6)\n",
        "print(\"After appending 6 to the right:\", my_deque)\n",
        "\n",
        "# Append an element to the left (start) of the deque\n",
        "my_deque.appendleft(0)\n",
        "print(\"After appending 0 to the left:\", my_deque)\n",
        "\n",
        "# Pop an element from the right (end) of the deque\n",
        "popped_right = my_deque.pop()\n",
        "print(f\"After popping from the right ({popped_right} removed):\", my_deque)\n",
        "\n",
        "# Pop an element from the left (start) of the deque\n",
        "popped_left = my_deque.popleft()\n",
        "print(f\"After popping from the left ({popped_left} removed):\", my_deque)\n",
        "\n",
        "# Extend the deque by adding multiple elements to the right\n",
        "my_deque.extend([7, 8])\n",
        "print(\"After extending deque on the right with [7, 8]:\", my_deque)\n",
        "\n",
        "# Extend the deque by adding multiple elements to the left\n",
        "my_deque.extendleft([-2, -1])\n",
        "#[7,8,-2,-1,1,2,3,4,5]\n",
        "#[5,7,8,-2,-1,1,2,3,4]\n",
        "print(\"After extending deque on the left with [-2, -1]:\", my_deque)\n",
        "\n",
        "# Rotate the deque by n steps (positive to the right, negative to the left)\n",
        "my_deque.rotate(3)\n",
        "print(\"After rotating right by 2:\", my_deque)\n",
        "\n",
        "my_deque.rotate(-2)\n",
        "print(\"After rotating left by 2:\", my_deque)\n",
        "\n",
        "# Clear all elements from the deque\n",
        "my_deque.clear()\n",
        "print(\"After clearing the deque:\", my_deque)\n"
      ],
      "metadata": {
        "id": "4OATE-nC9K0T",
        "colab": {
          "base_uri": "https://localhost:8080/"
        },
        "outputId": "5642b60a-6f56-401a-a3e9-755d23f887a5"
      },
      "execution_count": 2,
      "outputs": [
        {
          "output_type": "stream",
          "name": "stdout",
          "text": [
            "Initial deque: deque([1, 2, 3, 4, 5])\n",
            "After appending 6 to the right: deque([1, 2, 3, 4, 5, 6])\n",
            "After appending 0 to the left: deque([0, 1, 2, 3, 4, 5, 6])\n",
            "After popping from the right (6 removed): deque([0, 1, 2, 3, 4, 5])\n",
            "After popping from the left (0 removed): deque([1, 2, 3, 4, 5])\n",
            "After extending deque on the right with [7, 8]: deque([1, 2, 3, 4, 5, 7, 8])\n",
            "After extending deque on the left with [-2, -1]: deque([-1, -2, 1, 2, 3, 4, 5, 7, 8])\n",
            "After rotating right by 2: deque([5, 7, 8, -1, -2, 1, 2, 3, 4])\n",
            "After rotating left by 2: deque([8, -1, -2, 1, 2, 3, 4, 5, 7])\n",
            "After clearing the deque: deque([])\n"
          ]
        }
      ]
    },
    {
      "cell_type": "code",
      "source": [
        "# Create a list\n",
        "lst = [1, 2, 3, 4, 5]\n",
        "\n",
        "# Insert an element at the left end (index 0)\n",
        "lst.insert(0, 5)  # Adds 0 at the beginning of the list\n",
        "\n",
        "print(\"List after inserting at the left:\", lst)\n",
        "\n",
        "\n",
        "lst.insert(2, 10)  # Adds 10 at the 2nd index of the list\n",
        "\n",
        "print(\"List after inserting at the left:\", lst)"
      ],
      "metadata": {
        "id": "e7qkdDy29K4g",
        "colab": {
          "base_uri": "https://localhost:8080/"
        },
        "outputId": "fbd2e287-a65d-41f7-a3c2-33c8445bb9e4"
      },
      "execution_count": 3,
      "outputs": [
        {
          "output_type": "stream",
          "name": "stdout",
          "text": [
            "List after inserting at the left: [5, 1, 2, 3, 4, 5]\n",
            "List after inserting at the left: [5, 1, 10, 2, 3, 4, 5]\n"
          ]
        }
      ]
    },
    {
      "cell_type": "code",
      "source": [
        "#2. namedtuple\n",
        "from collections import namedtuple\n",
        "\n",
        "# Define a namedtuple called 'Person'\n",
        "\n",
        "Person= namedtuple('Person', ['name', 'age', 'city'])\n",
        "\n",
        "# Create an instance of Person\n",
        "person1 = Person(name='John Doe', age=30, city='New York')\n",
        "\n",
        "# Access fields by name\n",
        "print(person1.name)\n",
        "print(person1.age)\n",
        "print(person1.city)\n"
      ],
      "metadata": {
        "id": "1R3PLqRp9K8F",
        "colab": {
          "base_uri": "https://localhost:8080/"
        },
        "outputId": "fc9f093e-a434-48c6-be22-ec635ea736c0"
      },
      "execution_count": 4,
      "outputs": [
        {
          "output_type": "stream",
          "name": "stdout",
          "text": [
            "John Doe\n",
            "30\n",
            "New York\n"
          ]
        }
      ]
    },
    {
      "cell_type": "code",
      "source": [
        "from collections import namedtuple\n",
        "\n",
        "# Define the namedtuple\n",
        "Person = namedtuple('person', ['name', 'age', 'city'])\n",
        "\n",
        "# Create a Person object from a list\n",
        "person_data = ['John Doe', 28, 'New York']\n",
        "person = Person._make(person_data)\n",
        "\n",
        "# Access fields by name\n",
        "print(person.name)\n",
        "print(person.age)\n",
        "print(person.city)\n",
        "\n",
        "# Access fields by index\n",
        "print(person[0])\n",
        "print(person[1])\n",
        "print(person[2])\n",
        "\n",
        "# Convert namedtuple to a dictionary\n",
        "person_dict = person._asdict()\n",
        "print(person_dict)\n",
        "\n",
        "# Replace a value in the namedtuple\n",
        "new_person = person._replace(age=30)\n",
        "print(new_person)\n",
        "# Unpack the namedtuple\n",
        "name, age, city = person\n",
        "print(name, age, city)\n"
      ],
      "metadata": {
        "id": "ZshqnPiP9K_u",
        "colab": {
          "base_uri": "https://localhost:8080/"
        },
        "outputId": "e7144333-3544-4094-e6eb-a68d4a0bb791"
      },
      "execution_count": 5,
      "outputs": [
        {
          "output_type": "stream",
          "name": "stdout",
          "text": [
            "John Doe\n",
            "28\n",
            "New York\n",
            "John Doe\n",
            "28\n",
            "New York\n",
            "{'name': 'John Doe', 'age': 28, 'city': 'New York'}\n",
            "person(name='John Doe', age=30, city='New York')\n",
            "John Doe 28 New York\n"
          ]
        }
      ]
    },
    {
      "cell_type": "code",
      "source": [
        "#WITH MULTIPLE VALUES:\n",
        "\n",
        "from collections import namedtuple\n",
        "\n",
        "# Define the namedtuple\n",
        "Person = namedtuple('person', ['name', 'age', 'city'])\n",
        "\n",
        "# Define multiple person data entries\n",
        "person_data_list = [\n",
        "    ['John Doe', 28, 'New York'],\n",
        "    ['Jane Smith', 34, 'Los Angeles'],\n",
        "    ['Emily Davis', 22, 'Chicago'],\n",
        "    ['Michael Brown', 45, 'Houston'],\n",
        "    ['Sarah Johnson', 30, 'San Francisco']\n",
        "]\n",
        "\n",
        "# Create a list of Person objects\n",
        "persons = [Person._make(data) for data in person_data_list]\n",
        "\n",
        "# Access fields by name\n",
        "print(\"Accessing fields by name:\")\n",
        "for person in persons:\n",
        "    print(f\"Name: {person.name}, Age: {person.age}, City: {person.city}\")\n",
        "\n",
        "# Access fields by index\n",
        "print(\"\\nAccessing fields by index:\")\n",
        "for person in persons:\n",
        "    print(f\"Name: {person[0]}, Age: {person[1]}, City: {person[2]}\")\n"
      ],
      "metadata": {
        "colab": {
          "base_uri": "https://localhost:8080/"
        },
        "id": "gNhOYIzb-VBe",
        "outputId": "27574822-ed9e-490e-bc03-34e7735adc54"
      },
      "execution_count": 6,
      "outputs": [
        {
          "output_type": "stream",
          "name": "stdout",
          "text": [
            "Accessing fields by name:\n",
            "Name: John Doe, Age: 28, City: New York\n",
            "Name: Jane Smith, Age: 34, City: Los Angeles\n",
            "Name: Emily Davis, Age: 22, City: Chicago\n",
            "Name: Michael Brown, Age: 45, City: Houston\n",
            "Name: Sarah Johnson, Age: 30, City: San Francisco\n",
            "\n",
            "Accessing fields by index:\n",
            "Name: John Doe, Age: 28, City: New York\n",
            "Name: Jane Smith, Age: 34, City: Los Angeles\n",
            "Name: Emily Davis, Age: 22, City: Chicago\n",
            "Name: Michael Brown, Age: 45, City: Houston\n",
            "Name: Sarah Johnson, Age: 30, City: San Francisco\n"
          ]
        }
      ]
    },
    {
      "cell_type": "code",
      "source": [
        "#3. ChainMap\n",
        "from collections import ChainMap\n",
        "\n",
        "dict1 = {'a': 1, 'b': 2}\n",
        "dict2 = {'b': 3, 'c': 4}\n",
        "\n",
        "# Create a ChainMap:\n",
        "combined = ChainMap(dict1, dict2)\n",
        "\n",
        "# Access values\n",
        "print(combined['a'])\n",
        "print(combined['b'])\n",
        "print(combined['c'])\n",
        "print(combined.maps[1]['b'])"
      ],
      "metadata": {
        "colab": {
          "base_uri": "https://localhost:8080/"
        },
        "id": "lkoUZLcK-Zt2",
        "outputId": "c43d9e1a-9c28-4bc0-9f71-958f1413b41b"
      },
      "execution_count": 7,
      "outputs": [
        {
          "output_type": "stream",
          "name": "stdout",
          "text": [
            "1\n",
            "2\n",
            "4\n",
            "3\n"
          ]
        }
      ]
    },
    {
      "cell_type": "code",
      "source": [
        "from collections import ChainMap\n",
        "\n",
        "# Create two dictionaries\n",
        "dict1 = {'a': 1, 'b': 2, 'c': 3}\n",
        "dict2 = {'b': 4, 'd': 5, 'e': 6}\n",
        "\n",
        "# Combine the dictionaries using ChainMap\n",
        "combined = ChainMap(dict1, dict2)\n",
        "\n",
        "# Display the combined ChainMap\n",
        "print(\"Combined ChainMap:\", combined)\n",
        "\n",
        "# Accessing values\n",
        "print(\"Value of 'a':\", combined['a'])\n",
        "print(\"Value of 'b':\", combined['b'])\n",
        "print(\"Value of 'd':\", combined['d'])\n",
        "# Update a value\n",
        "combined['b'] = 10\n",
        "dict2['b'] = 7\n",
        "print(\"Updated 'b' in combined ChainMap:\", combined)\n",
        "print(\"Updated dict1:\", dict1)\n",
        "print(\"Updated dict2:\", dict2)\n",
        "\n",
        "# Add a new key-value pair\n",
        "combined['f'] = 7\n",
        "print(\"Added 'f' to combined ChainMap:\", combined)\n",
        "print(\"Updated dict1:\", dict1)\n",
        "print(\"Updated dict2:\", dict2)\n",
        "\n",
        "# Access all keys, values, and items\n",
        "print(\"All keys:\", list(combined.keys()))\n",
        "print(\"All values:\", list(combined.values()))\n",
        "print(\"All items:\", list(combined.items()))\n",
        "\n",
        "\n"
      ],
      "metadata": {
        "colab": {
          "base_uri": "https://localhost:8080/"
        },
        "id": "E9U0s-1t-lZe",
        "outputId": "c734f473-8e41-4ec7-827a-a6d0adb33738"
      },
      "execution_count": 8,
      "outputs": [
        {
          "output_type": "stream",
          "name": "stdout",
          "text": [
            "Combined ChainMap: ChainMap({'a': 1, 'b': 2, 'c': 3}, {'b': 4, 'd': 5, 'e': 6})\n",
            "Value of 'a': 1\n",
            "Value of 'b': 2\n",
            "Value of 'd': 5\n",
            "Updated 'b' in combined ChainMap: ChainMap({'a': 1, 'b': 10, 'c': 3}, {'b': 7, 'd': 5, 'e': 6})\n",
            "Updated dict1: {'a': 1, 'b': 10, 'c': 3}\n",
            "Updated dict2: {'b': 7, 'd': 5, 'e': 6}\n",
            "Added 'f' to combined ChainMap: ChainMap({'a': 1, 'b': 10, 'c': 3, 'f': 7}, {'b': 7, 'd': 5, 'e': 6})\n",
            "Updated dict1: {'a': 1, 'b': 10, 'c': 3, 'f': 7}\n",
            "Updated dict2: {'b': 7, 'd': 5, 'e': 6}\n",
            "All keys: ['b', 'd', 'e', 'a', 'c', 'f']\n",
            "All values: [10, 5, 6, 1, 3, 7]\n",
            "All items: [('b', 10), ('d', 5), ('e', 6), ('a', 1), ('c', 3), ('f', 7)]\n"
          ]
        }
      ]
    },
    {
      "cell_type": "code",
      "source": [
        "# Create a new dictionary\n",
        "dict3 = {'g': 8, 'h': 9}\n",
        "\n",
        "# Create a new ChainMap with dict3 as the first dictionary\n",
        "new_combined = combined.new_child(dict3)\n",
        "\n",
        "# Display the new ChainMap\n",
        "print(\"New Combined ChainMap with dict3:\", new_combined)\n",
        "\n",
        "# Access the underlying maps\n",
        "print(\"Underlying maps in the original ChainMap:\", combined.maps)\n",
        "print(\"Underlying maps in the new ChainMap:\", new_combined.maps)"
      ],
      "metadata": {
        "colab": {
          "base_uri": "https://localhost:8080/"
        },
        "id": "VTcmScNG-yLA",
        "outputId": "f2971009-d640-4aef-cb92-a8e4d3cf06b2"
      },
      "execution_count": 9,
      "outputs": [
        {
          "output_type": "stream",
          "name": "stdout",
          "text": [
            "New Combined ChainMap with dict3: ChainMap({'g': 8, 'h': 9}, {'a': 1, 'b': 10, 'c': 3, 'f': 7}, {'b': 7, 'd': 5, 'e': 6})\n",
            "Underlying maps in the original ChainMap: [{'a': 1, 'b': 10, 'c': 3, 'f': 7}, {'b': 7, 'd': 5, 'e': 6}]\n",
            "Underlying maps in the new ChainMap: [{'g': 8, 'h': 9}, {'a': 1, 'b': 10, 'c': 3, 'f': 7}, {'b': 7, 'd': 5, 'e': 6}]\n"
          ]
        }
      ]
    },
    {
      "cell_type": "code",
      "source": [
        "#4. Counter\n",
        "from collections import Counter\n",
        "\n",
        "# Count elements in a list\n",
        "fruits = ['apple', 'banana', 'apple', 'orange', 'banana', 'apple']\n",
        "counter = Counter(fruits)\n",
        "\n",
        "print(counter)\n",
        "\n",
        "# Access counts\n",
        "print(counter['apple'])  # Output: 3\n",
        "print(counter['banana']) # Output: 2\n"
      ],
      "metadata": {
        "colab": {
          "base_uri": "https://localhost:8080/"
        },
        "id": "9bO5GAJ2-1DD",
        "outputId": "e811afb1-23bb-4bd0-b95f-48e2c554d1c4"
      },
      "execution_count": 10,
      "outputs": [
        {
          "output_type": "stream",
          "name": "stdout",
          "text": [
            "Counter({'apple': 3, 'banana': 2, 'orange': 1})\n",
            "3\n",
            "2\n"
          ]
        }
      ]
    },
    {
      "cell_type": "code",
      "source": [
        "from collections import Counter\n",
        "\n",
        "a=[1, 2, 'STRING', 4 ,1, 2, 5, 6, 8, 9, 6, 2, 5, 1, 8, 9, 4, 3, 7, 5, 8, 8, 3, 1, 5]\n",
        "counter = Counter(a)\n",
        "print(counter)\n",
        "print(counter[4])\n",
        "print(counter['STRING'])"
      ],
      "metadata": {
        "colab": {
          "base_uri": "https://localhost:8080/"
        },
        "id": "irw2SkX6-8je",
        "outputId": "7f4c02b4-df5f-4c97-e68e-a2e2aa3d1d8b"
      },
      "execution_count": 11,
      "outputs": [
        {
          "output_type": "stream",
          "name": "stdout",
          "text": [
            "Counter({1: 4, 5: 4, 8: 4, 2: 3, 4: 2, 6: 2, 9: 2, 3: 2, 'STRING': 1, 7: 1})\n",
            "2\n",
            "1\n"
          ]
        }
      ]
    },
    {
      "cell_type": "code",
      "source": [
        "from collections import Counter\n",
        "\n",
        "# Define a sentence\n",
        "sentence = \"Python is great language and easy to learn also Python is powerful amongst all\"\n",
        "\n",
        "counter=Counter(sentence)\n",
        "# Split the sentence into words\n",
        "words = sentence.split()\n",
        "\n",
        "# Use Counter to count the occurrences of each word\n",
        "word_count = Counter(words)\n",
        "\n",
        "# Print the word count\n",
        "print(word_count)\n",
        "print(counter)\n",
        "\n"
      ],
      "metadata": {
        "colab": {
          "base_uri": "https://localhost:8080/"
        },
        "id": "CbZi3joF_Bll",
        "outputId": "f9de7a98-6494-411e-b810-66a2fc5a74d5"
      },
      "execution_count": 12,
      "outputs": [
        {
          "output_type": "stream",
          "name": "stdout",
          "text": [
            "Counter({'Python': 2, 'is': 2, 'great': 1, 'language': 1, 'and': 1, 'easy': 1, 'to': 1, 'learn': 1, 'also': 1, 'powerful': 1, 'amongst': 1, 'all': 1})\n",
            "Counter({' ': 13, 'a': 9, 'o': 6, 'n': 6, 'l': 6, 't': 5, 's': 5, 'e': 5, 'g': 4, 'y': 3, 'r': 3, 'P': 2, 'h': 2, 'i': 2, 'u': 2, 'd': 1, 'p': 1, 'w': 1, 'f': 1, 'm': 1})\n"
          ]
        }
      ]
    },
    {
      "cell_type": "code",
      "source": [
        "#5. OrderedDict\n",
        "from collections import OrderedDict\n",
        "\n",
        "# Create an OrderedDict\n",
        "od = OrderedDict()\n",
        "od['a'] = 5\n",
        "od['b'] = 7\n",
        "od['c'] = 3\n",
        "od['d'] = 4\n",
        "od['e']= 'word'\n",
        "\n",
        "# Print the OrderedDict\n",
        "print(od)\n",
        "print(od['e'])\n",
        "print(od['b'])"
      ],
      "metadata": {
        "colab": {
          "base_uri": "https://localhost:8080/"
        },
        "id": "NeZuR8Zd_DXY",
        "outputId": "c2ed9a47-6939-41c8-e13f-b475ccfe5bed"
      },
      "execution_count": 13,
      "outputs": [
        {
          "output_type": "stream",
          "name": "stdout",
          "text": [
            "OrderedDict([('a', 5), ('b', 7), ('c', 3), ('d', 4), ('e', 'word')])\n",
            "word\n",
            "7\n"
          ]
        }
      ]
    },
    {
      "cell_type": "code",
      "source": [
        "from collections import defaultdict\n",
        "\n",
        "# Create an defaultdict\n",
        "od = defaultdict(int)\n",
        "od['a'] = 5\n",
        "od['b'] = 7\n",
        "od['c'] = 3\n",
        "od['d'] = 4\n",
        "od['e']= 6\n",
        "\n",
        "# Print the OrderedDict\n",
        "print(od)\n",
        "print(od['e'])\n",
        "print(od['f'])"
      ],
      "metadata": {
        "colab": {
          "base_uri": "https://localhost:8080/"
        },
        "id": "uf04TNil_LLs",
        "outputId": "3bde84f8-4205-42a5-d0ac-fe0c2c927bd1"
      },
      "execution_count": 14,
      "outputs": [
        {
          "output_type": "stream",
          "name": "stdout",
          "text": [
            "defaultdict(<class 'int'>, {'a': 5, 'b': 7, 'c': 3, 'd': 4, 'e': 6})\n",
            "6\n",
            "0\n"
          ]
        }
      ]
    },
    {
      "cell_type": "code",
      "source": [
        "#6. DefaultDict\n",
        "from collections import defaultdict\n",
        "\n",
        "D = defaultdict(int)\n",
        "D['python']=1\n",
        "D['Java']=2\n",
        "print(D['SQL'])\n",
        "print(D)\n",
        "print(D['Power BI'])\n",
        "print(D)\n"
      ],
      "metadata": {
        "colab": {
          "base_uri": "https://localhost:8080/"
        },
        "id": "_xaHymTs_QCD",
        "outputId": "3237a066-f508-49f4-ee26-c2bd6072afef"
      },
      "execution_count": 15,
      "outputs": [
        {
          "output_type": "stream",
          "name": "stdout",
          "text": [
            "0\n",
            "defaultdict(<class 'int'>, {'python': 1, 'Java': 2, 'SQL': 0})\n",
            "0\n",
            "defaultdict(<class 'int'>, {'python': 1, 'Java': 2, 'SQL': 0, 'Power BI': 0})\n"
          ]
        }
      ]
    },
    {
      "cell_type": "code",
      "source": [
        "from collections import defaultdict\n",
        "\n",
        "# Create a defaultdict with default type int\n",
        "dd = defaultdict(int)\n",
        "\n",
        "# Add values\n",
        "dd['1'] = 'Apple'\n",
        "dd['banana'] += 2\n",
        "dd['grapes'] +=3\n",
        "\n",
        "\n",
        "# Print defaultdict\n",
        "print(dd)\n",
        "print(dd['grapes'])\n",
        "print(dd['guava'])\n",
        "print(dd['1'])\n",
        "print(dd['Banana'])\n",
        "print(dd)"
      ],
      "metadata": {
        "colab": {
          "base_uri": "https://localhost:8080/"
        },
        "id": "nI_XYawS_WFF",
        "outputId": "bf919a4c-00f4-4879-957f-129e049f30d5"
      },
      "execution_count": 17,
      "outputs": [
        {
          "output_type": "stream",
          "name": "stdout",
          "text": [
            "defaultdict(<class 'int'>, {'1': 'Apple', 'banana': 2, 'grapes': 3})\n",
            "3\n",
            "0\n",
            "Apple\n",
            "0\n",
            "defaultdict(<class 'int'>, {'1': 'Apple', 'banana': 2, 'grapes': 3, 'guava': 0, 'Banana': 0})\n"
          ]
        }
      ]
    },
    {
      "cell_type": "code",
      "source": [],
      "metadata": {
        "id": "Zh0A-phz_avO"
      },
      "execution_count": null,
      "outputs": []
    }
  ]
}